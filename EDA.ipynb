{
 "cells": [
  {
   "cell_type": "markdown",
   "metadata": {},
   "source": [
    "Обзор транзакционных данных, которые были предложены участникам [соревнования от Альфа-Банка](https://boosters.pro/championship/alfabattle2_sand/overview) (см. раздел \"Вторая задача\")."
   ]
  },
  {
   "cell_type": "markdown",
   "metadata": {},
   "source": [
    "## Что в датасете\n",
    "- примерно 964К клиентов в train части / 502К в test\n",
    "- примерно 270М транзакций в train части / 173M в test\n",
    "\n",
    "test часть разделена с train частью по времени\n",
    "\n",
    "### Описание доступных файлов\n",
    "- *alfabattle2_train_transactions_contest* - тренировочная выборка с транзакционными данными (папка с 50 файлами в формате parquet)\n",
    "- *alfabattle2_test_transactions_contest*  - тестовая выборка с транзакционными данными (папка с 50 файлами в формате parquet)\n",
    "- *alfabattle2_test_target_contest.csv*  - выборка для построения прогноза\n",
    "- *alfabattle2_train_target.csv*  - выборка для обучения"
   ]
  },
  {
   "cell_type": "code",
   "execution_count": 1,
   "metadata": {},
   "outputs": [],
   "source": [
    "import pandas as pd\n",
    "from matplotlib import pyplot as plt\n",
    "\n",
    "from utils import read_parquet_dataset_from_local"
   ]
  },
  {
   "cell_type": "markdown",
   "metadata": {},
   "source": [
    "----\n",
    "### Файл с таргетом\n",
    "\n",
    "##### Описание колонок\n",
    "- *app_id* - Идентификатор заявки. заявки пронумерованы так, что более поздним заявкам соответствует более поздняя дата\n",
    "- *product* - Продукт по которому нужно принять решение, уйдет ли заявитель в дефолт или нет\n",
    "- *flag* - Целевая переменная, 1 - факт ухода в дефолт. Доступна в обучающей выборке."
   ]
  },
  {
   "cell_type": "code",
   "execution_count": 2,
   "metadata": {},
   "outputs": [
    {
     "data": {
      "text/html": [
       "<div>\n",
       "<style scoped>\n",
       "    .dataframe tbody tr th:only-of-type {\n",
       "        vertical-align: middle;\n",
       "    }\n",
       "\n",
       "    .dataframe tbody tr th {\n",
       "        vertical-align: top;\n",
       "    }\n",
       "\n",
       "    .dataframe thead th {\n",
       "        text-align: right;\n",
       "    }\n",
       "</style>\n",
       "<table border=\"1\" class=\"dataframe\">\n",
       "  <thead>\n",
       "    <tr style=\"text-align: right;\">\n",
       "      <th></th>\n",
       "      <th>app_id</th>\n",
       "      <th>product</th>\n",
       "      <th>flag</th>\n",
       "    </tr>\n",
       "  </thead>\n",
       "  <tbody>\n",
       "    <tr>\n",
       "      <th>0</th>\n",
       "      <td>0</td>\n",
       "      <td>3</td>\n",
       "      <td>0</td>\n",
       "    </tr>\n",
       "    <tr>\n",
       "      <th>1</th>\n",
       "      <td>1</td>\n",
       "      <td>1</td>\n",
       "      <td>0</td>\n",
       "    </tr>\n",
       "    <tr>\n",
       "      <th>2</th>\n",
       "      <td>2</td>\n",
       "      <td>1</td>\n",
       "      <td>0</td>\n",
       "    </tr>\n",
       "    <tr>\n",
       "      <th>3</th>\n",
       "      <td>3</td>\n",
       "      <td>1</td>\n",
       "      <td>0</td>\n",
       "    </tr>\n",
       "    <tr>\n",
       "      <th>4</th>\n",
       "      <td>4</td>\n",
       "      <td>1</td>\n",
       "      <td>0</td>\n",
       "    </tr>\n",
       "  </tbody>\n",
       "</table>\n",
       "</div>"
      ],
      "text/plain": [
       "   app_id  product  flag\n",
       "0       0        3     0\n",
       "1       1        1     0\n",
       "2       2        1     0\n",
       "3       3        1     0\n",
       "4       4        1     0"
      ]
     },
     "execution_count": 2,
     "metadata": {},
     "output_type": "execute_result"
    }
   ],
   "source": [
    "train_target = pd.read_csv(\"data/alfabattle2_sand_alfabattle2_train_target.csv\")\n",
    "train_target.head()"
   ]
  },
  {
   "cell_type": "code",
   "execution_count": 3,
   "metadata": {},
   "outputs": [
    {
     "name": "stdout",
     "output_type": "stream",
     "text": [
      "Число заявок (клиентов) в обучающей части датасета:\n"
     ]
    },
    {
     "data": {
      "text/plain": [
       "963811"
      ]
     },
     "execution_count": 3,
     "metadata": {},
     "output_type": "execute_result"
    }
   ],
   "source": [
    "print(\"Число заявок (клиентов) в обучающей части датасета:\")\n",
    "len(train_target)"
   ]
  },
  {
   "cell_type": "code",
   "execution_count": 4,
   "metadata": {},
   "outputs": [
    {
     "name": "stdout",
     "output_type": "stream",
     "text": [
      "Доля заявок, в которых случился дефолт:\n"
     ]
    },
    {
     "data": {
      "text/plain": [
       "0.027574908358588977"
      ]
     },
     "execution_count": 4,
     "metadata": {},
     "output_type": "execute_result"
    }
   ],
   "source": [
    "print(\"Доля заявок, в которых случился дефолт:\")\n",
    "train_target[\"flag\"].sum() / len(train_target)"
   ]
  },
  {
   "cell_type": "code",
   "execution_count": 5,
   "metadata": {},
   "outputs": [
    {
     "data": {
      "image/png": "[encoded data removed]",
      "text/plain": [
       "<Figure size 432x288 with 1 Axes>"
      ]
     },
     "metadata": {
      "needs_background": "light"
     },
     "output_type": "display_data"
    }
   ],
   "source": [
    "df = train_target.groupby(\"product\").agg([\"mean\", \"count\"]).reset_index()\n",
    "df.columns = [\"product\", \"app_id_mean\", \"app_id_count\", \"flag_mean\", \"flag_count\"]\n",
    "df = df[[\"product\", \"app_id_count\", \"flag_mean\"]]\n",
    "df[[\"product\", \"app_id_count\"]].plot.bar(\"product\")\n",
    "plt.title(\"Распределение числа заявок в зависимости от типа кредитного продукта\")\n",
    "plt.show()"
   ]
  },
  {
   "cell_type": "code",
   "execution_count": 6,
   "metadata": {},
   "outputs": [
    {
     "data": {
      "image/png": "[encoded data removed]",
      "text/plain": [
       "<Figure size 432x288 with 1 Axes>"
      ]
     },
     "metadata": {
      "needs_background": "light"
     },
     "output_type": "display_data"
    }
   ],
   "source": [
    "df[[\"product\", \"flag_mean\"]].plot.bar(\"product\")\n",
    "plt.title(\"Распределение вероятности дефолта в зависимости от типа кредитного продукта\")\n",
    "plt.show()"
   ]
  },
  {
   "cell_type": "code",
   "execution_count": 7,
   "metadata": {},
   "outputs": [
    {
     "data": {
      "text/html": [
       "<div>\n",
       "<style scoped>\n",
       "    .dataframe tbody tr th:only-of-type {\n",
       "        vertical-align: middle;\n",
       "    }\n",
       "\n",
       "    .dataframe tbody tr th {\n",
       "        vertical-align: top;\n",
       "    }\n",
       "\n",
       "    .dataframe thead th {\n",
       "        text-align: right;\n",
       "    }\n",
       "</style>\n",
       "<table border=\"1\" class=\"dataframe\">\n",
       "  <thead>\n",
       "    <tr style=\"text-align: right;\">\n",
       "      <th></th>\n",
       "      <th>app_id</th>\n",
       "      <th>product</th>\n",
       "    </tr>\n",
       "  </thead>\n",
       "  <tbody>\n",
       "    <tr>\n",
       "      <th>0</th>\n",
       "      <td>1063620</td>\n",
       "      <td>0</td>\n",
       "    </tr>\n",
       "    <tr>\n",
       "      <th>1</th>\n",
       "      <td>1063621</td>\n",
       "      <td>0</td>\n",
       "    </tr>\n",
       "    <tr>\n",
       "      <th>2</th>\n",
       "      <td>1063622</td>\n",
       "      <td>1</td>\n",
       "    </tr>\n",
       "    <tr>\n",
       "      <th>3</th>\n",
       "      <td>1063623</td>\n",
       "      <td>1</td>\n",
       "    </tr>\n",
       "    <tr>\n",
       "      <th>4</th>\n",
       "      <td>1063624</td>\n",
       "      <td>2</td>\n",
       "    </tr>\n",
       "  </tbody>\n",
       "</table>\n",
       "</div>"
      ],
      "text/plain": [
       "    app_id  product\n",
       "0  1063620        0\n",
       "1  1063621        0\n",
       "2  1063622        1\n",
       "3  1063623        1\n",
       "4  1063624        2"
      ]
     },
     "execution_count": 7,
     "metadata": {},
     "output_type": "execute_result"
    }
   ],
   "source": [
    "test_target = pd.read_csv(\"data/alfabattle2_sand_alfabattle2_test_target_contest.csv\")\n",
    "test_target.head()"
   ]
  },
  {
   "cell_type": "code",
   "execution_count": 8,
   "metadata": {},
   "outputs": [
    {
     "name": "stdout",
     "output_type": "stream",
     "text": [
      "Число заявок (клиентов) в тестовой части датасета:\n"
     ]
    },
    {
     "data": {
      "text/plain": [
       "502716"
      ]
     },
     "execution_count": 8,
     "metadata": {},
     "output_type": "execute_result"
    }
   ],
   "source": [
    "print(\"Число заявок (клиентов) в тестовой части датасета:\")\n",
    "len(test_target)"
   ]
  },
  {
   "cell_type": "markdown",
   "metadata": {},
   "source": [
    "----\n",
    "### Транзакционные данные\n",
    "\n",
    "##### Описание колонок\n",
    "- *app_id* - Идентификатор заявки. заявки пронумерованы так, что более поздним заявкам соответствует более поздняя дата\n",
    "- *amnt* - Нормированная сумма транзакции. 0.0 - соответствует пропускам \n",
    "- *currency* - Идентификатор валюты транзакции\n",
    "- *operation_kind* - Идентификатор типа транзакции\n",
    "- *card_type* - Уникальный идентификатор типа карты\n",
    "- *operation_type* - Идентификатор типа операции по пластиковой карте\n",
    "- *operation_type_group* - Идентификатор группы карточных операций, например, дебетовая карта или кредитная карта\n",
    "- *ecommerce_flag* - Признак электронной коммерции\n",
    "- *payment_system* - Идентификатор типа платежной системы\n",
    "- *income_flag* - Признак списания/внесения денежных средств на карту\n",
    "- *mcc* - Уникальный идентификатор типа торговой точки\n",
    "- *country* - Идентификатор страны транзакции\n",
    "- *city* - Идентификатор города транзакции\n",
    "- *mcc_category* - Идентификатор категории магазина транзакции\n",
    "- *day_of_week* - День недели, когда транзакция была совершена\n",
    "- *hour* - Час, когда транзакция была совершена\n",
    "- *days_before* - Количество дней до даты выдачи кредита\n",
    "- *weekofyear* - Номер недели в году, когда транзакция была совершена\n",
    "- *hour_diff* - Количество часов с момента прошлой транзакции для данного клиента\n",
    "- *transaction_number* - Порядковый номер транзакции клиента\n",
    "\n",
    "Видно, что в описаниии транзакций достаточно много категориальных признаков."
   ]
  },
  {
   "cell_type": "code",
   "execution_count": 9,
   "metadata": {},
   "outputs": [
    {
     "data": {
      "application/vnd.jupyter.widget-view+json": {
       "model_id": "c709f28fc9f84edb9e836d2f290ee8d0",
       "version_major": 2,
       "version_minor": 0
      },
      "text/plain": [
       "HBox(children=(FloatProgress(value=0.0, description='Reading dataset with pandas', max=1.0, style=ProgressStyl…"
      ]
     },
     "metadata": {},
     "output_type": "display_data"
    },
    {
     "name": "stdout",
     "output_type": "stream",
     "text": [
      "\n"
     ]
    },
    {
     "data": {
      "text/html": [
       "<div>\n",
       "<style scoped>\n",
       "    .dataframe tbody tr th:only-of-type {\n",
       "        vertical-align: middle;\n",
       "    }\n",
       "\n",
       "    .dataframe tbody tr th {\n",
       "        vertical-align: top;\n",
       "    }\n",
       "\n",
       "    .dataframe thead th {\n",
       "        text-align: right;\n",
       "    }\n",
       "</style>\n",
       "<table border=\"1\" class=\"dataframe\">\n",
       "  <thead>\n",
       "    <tr style=\"text-align: right;\">\n",
       "      <th></th>\n",
       "      <th>app_id</th>\n",
       "      <th>amnt</th>\n",
       "      <th>currency</th>\n",
       "      <th>operation_kind</th>\n",
       "      <th>card_type</th>\n",
       "      <th>operation_type</th>\n",
       "      <th>operation_type_group</th>\n",
       "      <th>ecommerce_flag</th>\n",
       "      <th>payment_system</th>\n",
       "      <th>income_flag</th>\n",
       "      <th>mcc</th>\n",
       "      <th>country</th>\n",
       "      <th>city</th>\n",
       "      <th>mcc_category</th>\n",
       "      <th>day_of_week</th>\n",
       "      <th>hour</th>\n",
       "      <th>days_before</th>\n",
       "      <th>weekofyear</th>\n",
       "      <th>hour_diff</th>\n",
       "      <th>transaction_number</th>\n",
       "    </tr>\n",
       "  </thead>\n",
       "  <tbody>\n",
       "    <tr>\n",
       "      <th>0</th>\n",
       "      <td>859271</td>\n",
       "      <td>0.344290</td>\n",
       "      <td>1</td>\n",
       "      <td>1</td>\n",
       "      <td>14</td>\n",
       "      <td>2</td>\n",
       "      <td>1</td>\n",
       "      <td>1</td>\n",
       "      <td>3</td>\n",
       "      <td>1</td>\n",
       "      <td>1</td>\n",
       "      <td>1</td>\n",
       "      <td>1</td>\n",
       "      <td>1</td>\n",
       "      <td>2</td>\n",
       "      <td>18</td>\n",
       "      <td>359</td>\n",
       "      <td>49</td>\n",
       "      <td>-1</td>\n",
       "      <td>1</td>\n",
       "    </tr>\n",
       "    <tr>\n",
       "      <th>1</th>\n",
       "      <td>859271</td>\n",
       "      <td>0.372389</td>\n",
       "      <td>1</td>\n",
       "      <td>1</td>\n",
       "      <td>14</td>\n",
       "      <td>2</td>\n",
       "      <td>1</td>\n",
       "      <td>2</td>\n",
       "      <td>3</td>\n",
       "      <td>1</td>\n",
       "      <td>73</td>\n",
       "      <td>1</td>\n",
       "      <td>2</td>\n",
       "      <td>19</td>\n",
       "      <td>7</td>\n",
       "      <td>18</td>\n",
       "      <td>358</td>\n",
       "      <td>49</td>\n",
       "      <td>24</td>\n",
       "      <td>2</td>\n",
       "    </tr>\n",
       "    <tr>\n",
       "      <th>2</th>\n",
       "      <td>859271</td>\n",
       "      <td>0.319118</td>\n",
       "      <td>1</td>\n",
       "      <td>1</td>\n",
       "      <td>14</td>\n",
       "      <td>2</td>\n",
       "      <td>1</td>\n",
       "      <td>1</td>\n",
       "      <td>3</td>\n",
       "      <td>1</td>\n",
       "      <td>1</td>\n",
       "      <td>1</td>\n",
       "      <td>1</td>\n",
       "      <td>1</td>\n",
       "      <td>7</td>\n",
       "      <td>19</td>\n",
       "      <td>358</td>\n",
       "      <td>49</td>\n",
       "      <td>1</td>\n",
       "      <td>3</td>\n",
       "    </tr>\n",
       "    <tr>\n",
       "      <th>3</th>\n",
       "      <td>859271</td>\n",
       "      <td>0.266742</td>\n",
       "      <td>1</td>\n",
       "      <td>1</td>\n",
       "      <td>14</td>\n",
       "      <td>2</td>\n",
       "      <td>1</td>\n",
       "      <td>1</td>\n",
       "      <td>3</td>\n",
       "      <td>1</td>\n",
       "      <td>8</td>\n",
       "      <td>1</td>\n",
       "      <td>1</td>\n",
       "      <td>1</td>\n",
       "      <td>7</td>\n",
       "      <td>19</td>\n",
       "      <td>358</td>\n",
       "      <td>49</td>\n",
       "      <td>0</td>\n",
       "      <td>4</td>\n",
       "    </tr>\n",
       "    <tr>\n",
       "      <th>4</th>\n",
       "      <td>859271</td>\n",
       "      <td>0.260344</td>\n",
       "      <td>1</td>\n",
       "      <td>1</td>\n",
       "      <td>14</td>\n",
       "      <td>2</td>\n",
       "      <td>1</td>\n",
       "      <td>1</td>\n",
       "      <td>3</td>\n",
       "      <td>1</td>\n",
       "      <td>1</td>\n",
       "      <td>1</td>\n",
       "      <td>1</td>\n",
       "      <td>1</td>\n",
       "      <td>6</td>\n",
       "      <td>8</td>\n",
       "      <td>357</td>\n",
       "      <td>25</td>\n",
       "      <td>13</td>\n",
       "      <td>5</td>\n",
       "    </tr>\n",
       "  </tbody>\n",
       "</table>\n",
       "</div>"
      ],
      "text/plain": [
       "   app_id      amnt  currency  operation_kind  card_type  operation_type  \\\n",
       "0  859271  0.344290         1               1         14               2   \n",
       "1  859271  0.372389         1               1         14               2   \n",
       "2  859271  0.319118         1               1         14               2   \n",
       "3  859271  0.266742         1               1         14               2   \n",
       "4  859271  0.260344         1               1         14               2   \n",
       "\n",
       "   operation_type_group  ecommerce_flag  payment_system  income_flag  mcc  \\\n",
       "0                     1               1               3            1    1   \n",
       "1                     1               2               3            1   73   \n",
       "2                     1               1               3            1    1   \n",
       "3                     1               1               3            1    8   \n",
       "4                     1               1               3            1    1   \n",
       "\n",
       "   country  city  mcc_category  day_of_week  hour  days_before  weekofyear  \\\n",
       "0        1     1             1            2    18          359          49   \n",
       "1        1     2            19            7    18          358          49   \n",
       "2        1     1             1            7    19          358          49   \n",
       "3        1     1             1            7    19          358          49   \n",
       "4        1     1             1            6     8          357          25   \n",
       "\n",
       "   hour_diff  transaction_number  \n",
       "0         -1                   1  \n",
       "1         24                   2  \n",
       "2          1                   3  \n",
       "3          0                   4  \n",
       "4         13                   5  "
      ]
     },
     "execution_count": 9,
     "metadata": {},
     "output_type": "execute_result"
    }
   ],
   "source": [
    "train_transactions = read_parquet_dataset_from_local(\n",
    "    \"data/train_transactions_contest\",\n",
    "    start_from=42,\n",
    "    num_parts_to_read=1\n",
    ")\n",
    "train_transactions.head()"
   ]
  },
  {
   "cell_type": "code",
   "execution_count": 10,
   "metadata": {},
   "outputs": [
    {
     "name": "stdout",
     "output_type": "stream",
     "text": [
      "<class 'pandas.core.frame.DataFrame'>\n",
      "RangeIndex: 5409650 entries, 0 to 5409649\n",
      "Data columns (total 20 columns):\n",
      " #   Column                Dtype  \n",
      "---  ------                -----  \n",
      " 0   app_id                int32  \n",
      " 1   amnt                  float64\n",
      " 2   currency              int32  \n",
      " 3   operation_kind        int32  \n",
      " 4   card_type             int32  \n",
      " 5   operation_type        int32  \n",
      " 6   operation_type_group  int32  \n",
      " 7   ecommerce_flag        int32  \n",
      " 8   payment_system        int32  \n",
      " 9   income_flag           int32  \n",
      " 10  mcc                   int32  \n",
      " 11  country               int32  \n",
      " 12  city                  int32  \n",
      " 13  mcc_category          int32  \n",
      " 14  day_of_week           int32  \n",
      " 15  hour                  int32  \n",
      " 16  days_before           int32  \n",
      " 17  weekofyear            int32  \n",
      " 18  hour_diff             int64  \n",
      " 19  transaction_number    int32  \n",
      "dtypes: float64(1), int32(18), int64(1)\n",
      "memory usage: 454.0 MB\n"
     ]
    }
   ],
   "source": [
    "train_transactions.info()"
   ]
  },
  {
   "cell_type": "code",
   "execution_count": 11,
   "metadata": {},
   "outputs": [],
   "source": [
    "numerical_features = [\n",
    "    \"amnt\",\n",
    "    \"days_before\",\n",
    "    \"hour_diff\"\n",
    "]\n",
    "\n",
    "categorical_features = [\n",
    "    \"currency\",\n",
    "    \"operation_kind\",\n",
    "    \"card_type\",\n",
    "    \"operation_type\",\n",
    "    \"operation_type_group\",\n",
    "    \"ecommerce_flag\",\n",
    "    \"payment_system\",\n",
    "    \"income_flag\",\n",
    "    \"mcc\",\n",
    "    \"country\",\n",
    "    \"city\",\n",
    "    \"mcc_category\",\n",
    "    \"day_of_week\",\n",
    "    \"hour\",\n",
    "    \"weekofyear\"\n",
    "]"
   ]
  },
  {
   "cell_type": "markdown",
   "metadata": {},
   "source": [
    "#### Число заявок (клиентов)\n",
    "- *app_id* - Идентификатор заявки. заявки пронумерованы так, что более поздним заявкам соответствует более поздняя дата"
   ]
  },
  {
   "cell_type": "code",
   "execution_count": 12,
   "metadata": {},
   "outputs": [
    {
     "data": {
      "image/png": "[encoded data removed]",
      "text/plain": [
       "<Figure size 432x288 with 1 Axes>"
      ]
     },
     "metadata": {
      "needs_background": "light"
     },
     "output_type": "display_data"
    }
   ],
   "source": [
    "df = train_transactions[[\"app_id\", \"amnt\"]].groupby(\"app_id\").count().reset_index()\n",
    "plt.hist(df[\"amnt\"], bins=100)\n",
    "plt.title(\"Распределение числа клиента в зависимости от числа транзакций\")\n",
    "plt.xlabel(\"Число транзакций\")\n",
    "plt.show()"
   ]
  },
  {
   "cell_type": "code",
   "execution_count": 13,
   "metadata": {},
   "outputs": [
    {
     "name": "stdout",
     "output_type": "stream",
     "text": [
      "Примерные значения среднего числа транзакций и медианного числа транзакций:\n"
     ]
    },
    {
     "data": {
      "text/plain": [
       "(289.4873441429871, 178.0)"
      ]
     },
     "execution_count": 13,
     "metadata": {},
     "output_type": "execute_result"
    }
   ],
   "source": [
    "print(\"Примерные значения среднего числа транзакций и медианного числа транзакций:\")\n",
    "df[\"amnt\"].mean(), df[\"amnt\"].median()"
   ]
  },
  {
   "cell_type": "markdown",
   "metadata": {},
   "source": [
    "#### Количественные признаки\n",
    "- *__amnt__* - Нормированная сумма транзакции. 0.0 - соответствует пропускам "
   ]
  },
  {
   "cell_type": "code",
   "execution_count": 14,
   "metadata": {},
   "outputs": [
    {
     "name": "stdout",
     "output_type": "stream",
     "text": [
      "Примерная доля пропусков фичи amnt в датасете:\n"
     ]
    },
    {
     "data": {
      "text/plain": [
       "0.009054559906833159"
      ]
     },
     "execution_count": 14,
     "metadata": {},
     "output_type": "execute_result"
    }
   ],
   "source": [
    "print(\"Примерная доля пропусков фичи amnt в датасете:\")\n",
    "(train_transactions[\"amnt\"] == 0).sum() / len(train_transactions)"
   ]
  },
  {
   "cell_type": "code",
   "execution_count": 15,
   "metadata": {},
   "outputs": [
    {
     "data": {
      "image/png": "[encoded data removed]",
      "text/plain": [
       "<Figure size 432x288 with 1 Axes>"
      ]
     },
     "metadata": {
      "needs_background": "light"
     },
     "output_type": "display_data"
    }
   ],
   "source": [
    "plt.hist(train_transactions[\"amnt\"], bins=100)\n",
    "plt.title(\"Распределение признака amnt\")\n",
    "plt.show()"
   ]
  },
  {
   "cell_type": "markdown",
   "metadata": {},
   "source": [
    "- *__days_before__* - Количество дней до даты выдачи кредита"
   ]
  },
  {
   "cell_type": "code",
   "execution_count": 16,
   "metadata": {},
   "outputs": [
    {
     "name": "stdout",
     "output_type": "stream",
     "text": [
      "Минимальное и максимальное число дней до даты выдачи кредита:\n"
     ]
    },
    {
     "data": {
      "text/plain": [
       "(1, 359)"
      ]
     },
     "execution_count": 16,
     "metadata": {},
     "output_type": "execute_result"
    }
   ],
   "source": [
    "print(\"Минимальное и максимальное число дней до даты выдачи кредита:\")\n",
    "train_transactions[\"days_before\"].min(), train_transactions[\"days_before\"].max()"
   ]
  },
  {
   "cell_type": "markdown",
   "metadata": {},
   "source": [
    "История по транзакциям для некоторых клиентов доходит до 1 года"
   ]
  },
  {
   "cell_type": "code",
   "execution_count": 17,
   "metadata": {},
   "outputs": [
    {
     "data": {
      "image/png": "[encoded data removed]",
      "text/plain": [
       "<Figure size 432x288 with 1 Axes>"
      ]
     },
     "metadata": {
      "needs_background": "light"
     },
     "output_type": "display_data"
    }
   ],
   "source": [
    "plt.hist(train_transactions[\"days_before\"], bins=359)\n",
    "plt.title(\"Распределение признака days_before\")\n",
    "plt.show()"
   ]
  },
  {
   "cell_type": "markdown",
   "metadata": {},
   "source": [
    "- *__hour_diff__* - Количество часов с момента прошлой транзакции для данного клиента"
   ]
  },
  {
   "cell_type": "code",
   "execution_count": 18,
   "metadata": {},
   "outputs": [
    {
     "name": "stdout",
     "output_type": "stream",
     "text": [
      "Минимальное и максимальное количество часов с момента прошлой транзакции:\n"
     ]
    },
    {
     "data": {
      "text/plain": [
       "(-1, 7413)"
      ]
     },
     "execution_count": 18,
     "metadata": {},
     "output_type": "execute_result"
    }
   ],
   "source": [
    "print(\"Минимальное и максимальное количество часов с момента прошлой транзакции:\")\n",
    "train_transactions[\"hour_diff\"].min(), train_transactions[\"hour_diff\"].max()"
   ]
  },
  {
   "cell_type": "markdown",
   "metadata": {},
   "source": [
    "Легко видеть, что в датасете первая транзакция клиента идет с hour_diff = -1"
   ]
  },
  {
   "cell_type": "code",
   "execution_count": 19,
   "metadata": {},
   "outputs": [
    {
     "data": {
      "text/plain": [
       "True"
      ]
     },
     "execution_count": 19,
     "metadata": {},
     "output_type": "execute_result"
    }
   ],
   "source": [
    "len(set(train_transactions[\"app_id\"])) == (train_transactions[\"hour_diff\"] == -1).sum()"
   ]
  },
  {
   "cell_type": "code",
   "execution_count": 20,
   "metadata": {},
   "outputs": [
    {
     "name": "stdout",
     "output_type": "stream",
     "text": [
      "Медианное и среднее количество часов с момента прошлой транзакции:\n"
     ]
    },
    {
     "data": {
      "text/plain": [
       "(4.0, 24.5339990572403)"
      ]
     },
     "execution_count": 20,
     "metadata": {},
     "output_type": "execute_result"
    }
   ],
   "source": [
    "print(\"Медианное и среднее количество часов с момента прошлой транзакции:\")\n",
    "train_transactions[\"hour_diff\"].median(), train_transactions[\"hour_diff\"].mean()"
   ]
  },
  {
   "cell_type": "code",
   "execution_count": 21,
   "metadata": {},
   "outputs": [
    {
     "data": {
      "image/png": "[encoded data removed]",
      "text/plain": [
       "<Figure size 432x288 with 1 Axes>"
      ]
     },
     "metadata": {
      "needs_background": "light"
     },
     "output_type": "display_data"
    }
   ],
   "source": [
    "plt.hist(train_transactions[\"hour_diff\"], bins=100, range=[0, 99])\n",
    "plt.title(\"Распределение признака hour_diff\")\n",
    "plt.show()"
   ]
  },
  {
   "cell_type": "markdown",
   "metadata": {},
   "source": [
    "Очень интересное распределение: во-первых, видно, что часто совершаются последовательные транзакции в один день спустя несколько часов (кейс \"день шопинга\"); во-вторых, отчетливо прослеживается дневная сезонность."
   ]
  },
  {
   "cell_type": "markdown",
   "metadata": {},
   "source": [
    "#### Категориальные признаки"
   ]
  },
  {
   "cell_type": "markdown",
   "metadata": {},
   "source": [
    "- *app_id* - Идентификатор заявки. заявки пронумерованы так, что более поздним заявкам соответствует более поздняя дата\n",
    "- *amnt* - Нормированная сумма транзакции. 0.0 - соответствует пропускам \n",
    "- *currency* - Идентификатор валюты транзакции\n",
    "- *operation_kind* - Идентификатор типа транзакции\n",
    "- *card_type* - Уникальный идентификатор типа карты\n",
    "- *operation_type* - Идентификатор типа операции по пластиковой карте\n",
    "- *operation_type_group* - Идентификатор группы карточных операций, например, дебетовая карта или кредитная карта\n",
    "- *ecommerce_flag* - Признак электронной коммерции\n",
    "- *payment_system* - Идентификатор типа платежной системы\n",
    "- *income_flag* - Признак списания/внесения денежных средств на карту\n",
    "- *mcc* - Уникальный идентификатор типа торговой точки\n",
    "- *country* - Идентификатор страны транзакции\n",
    "- *city* - Идентификатор города транзакции\n",
    "- *mcc_category* - Идентификатор категории магазина транзакции\n",
    "- *day_of_week* - День недели, когда транзакция была совершена\n",
    "- *hour* - Час, когда транзакция была совершена\n",
    "- *days_before* - Количество дней до даты выдачи кредита\n",
    "- *weekofyear* - Номер недели в году, когда транзакция была совершена\n",
    "- *hour_diff* - Количество часов с момента прошлой транзакции для данного клиента\n",
    "- *transaction_number* - Порядковый номер транзакции клиента"
   ]
  },
  {
   "cell_type": "code",
   "execution_count": 22,
   "metadata": {
    "scrolled": false
   },
   "outputs": [
    {
     "name": "stdout",
     "output_type": "stream",
     "text": [
      "Признак currency:\n",
      "Число уникальных значений признака: 11\n",
      "Самые популярные категории:\n",
      "   currency    count     ratio\n",
      "0         1  5294761  0.978762\n",
      "1         2    49739  0.009194\n",
      "2         3    26230  0.004849\n",
      "3         4     5324  0.000984\n",
      "4         5     4400  0.000813\n"
     ]
    },
    {
     "data": {
      "image/png": "[encoded data removed]",
      "text/plain": [
       "<Figure size 432x288 with 1 Axes>"
      ]
     },
     "metadata": {
      "needs_background": "light"
     },
     "output_type": "display_data"
    },
    {
     "name": "stdout",
     "output_type": "stream",
     "text": [
      "\n",
      "\n",
      "Признак operation_kind:\n",
      "Число уникальных значений признака: 7\n",
      "Самые популярные категории:\n",
      "   operation_kind    count     ratio\n",
      "0               1  4377697  0.809238\n",
      "1               2   434493  0.080318\n",
      "2               3   349294  0.064569\n",
      "3               4   205815  0.038046\n",
      "4               5    19968  0.003691\n"
     ]
    },
    {
     "data": {
      "image/png": "[encoded data removed]",
      "text/plain": [
       "<Figure size 432x288 with 1 Axes>"
      ]
     },
     "metadata": {
      "needs_background": "light"
     },
     "output_type": "display_data"
    },
    {
     "name": "stdout",
     "output_type": "stream",
     "text": [
      "\n",
      "\n",
      "Признак card_type:\n",
      "Число уникальных значений признака: 169\n",
      "Самые популярные категории:\n",
      "   card_type   count     ratio\n",
      "0          1  545936  0.100919\n",
      "1          2  493905  0.091301\n",
      "2          3  367022  0.067846\n",
      "3          4  267064  0.049368\n",
      "4          5  192732  0.035627\n",
      "\n",
      "\n",
      "Признак operation_type:\n",
      "Число уникальных значений признака: 22\n",
      "Самые популярные категории:\n",
      "   operation_type    count     ratio\n",
      "0               1  2587768  0.478361\n",
      "1               2  1701888  0.314602\n",
      "2               3   308019  0.056939\n",
      "3               4   193367  0.035745\n",
      "4               5   145881  0.026967\n"
     ]
    },
    {
     "data": {
      "image/png": "[encoded data removed]",
      "text/plain": [
       "<Figure size 432x288 with 1 Axes>"
      ]
     },
     "metadata": {
      "needs_background": "light"
     },
     "output_type": "display_data"
    },
    {
     "name": "stdout",
     "output_type": "stream",
     "text": [
      "\n",
      "\n",
      "Признак operation_type_group:\n",
      "Число уникальных значений признака: 3\n",
      "Самые популярные категории:\n",
      "   operation_type_group    count     ratio\n",
      "0                     1  5035282  0.930796\n",
      "1                     2   369283  0.068264\n",
      "2                     3     5085  0.000940\n"
     ]
    },
    {
     "data": {
      "image/png": "[encoded data removed]",
      "text/plain": [
       "<Figure size 432x288 with 1 Axes>"
      ]
     },
     "metadata": {
      "needs_background": "light"
     },
     "output_type": "display_data"
    },
    {
     "name": "stdout",
     "output_type": "stream",
     "text": [
      "\n",
      "\n",
      "Признак ecommerce_flag:\n",
      "Число уникальных значений признака: 2\n",
      "Самые популярные категории:\n",
      "   ecommerce_flag    count     ratio\n",
      "0               1  4785109  0.884551\n",
      "1               2   624541  0.115449\n"
     ]
    },
    {
     "data": {
      "image/png": "[encoded data removed]",
      "text/plain": [
       "<Figure size 432x288 with 1 Axes>"
      ]
     },
     "metadata": {
      "needs_background": "light"
     },
     "output_type": "display_data"
    },
    {
     "name": "stdout",
     "output_type": "stream",
     "text": [
      "\n",
      "\n",
      "Признак payment_system:\n",
      "Число уникальных значений признака: 6\n",
      "Самые популярные категории:\n",
      "   payment_system    count     ratio\n",
      "0               1  2293857  0.424031\n",
      "1               2  1490671  0.275558\n",
      "2               3  1080222  0.199684\n",
      "3               4   507282  0.093774\n",
      "4               5    28911  0.005344\n"
     ]
    },
    {
     "data": {
      "image/png": "[encoded data removed]",
      "text/plain": [
       "<Figure size 432x288 with 1 Axes>"
      ]
     },
     "metadata": {
      "needs_background": "light"
     },
     "output_type": "display_data"
    },
    {
     "name": "stdout",
     "output_type": "stream",
     "text": [
      "\n",
      "\n",
      "Признак income_flag:\n",
      "Число уникальных значений признака: 3\n",
      "Самые популярные категории:\n",
      "   income_flag    count         ratio\n",
      "0            1  4997629  9.238359e-01\n",
      "1            2   412018  7.616352e-02\n",
      "2            3        3  5.545645e-07\n"
     ]
    },
    {
     "data": {
      "image/png": "[encoded data removed]",
      "text/plain": [
       "<Figure size 432x288 with 1 Axes>"
      ]
     },
     "metadata": {
      "needs_background": "light"
     },
     "output_type": "display_data"
    },
    {
     "name": "stdout",
     "output_type": "stream",
     "text": [
      "\n",
      "\n",
      "Признак mcc:\n",
      "Число уникальных значений признака: 108\n",
      "Самые популярные категории:\n",
      "   mcc    count     ratio\n",
      "0    1  1339946  0.247696\n",
      "1    2   641987  0.118674\n",
      "2    3   471234  0.087110\n",
      "3    4   372362  0.068833\n",
      "4    5   205756  0.038035\n",
      "\n",
      "\n",
      "Признак country:\n",
      "Число уникальных значений признака: 24\n",
      "Самые популярные категории:\n",
      "   country    count     ratio\n",
      "0        1  5176761  0.956949\n",
      "1        2    39586  0.007318\n",
      "2        3    37839  0.006995\n",
      "3        4    28147  0.005203\n",
      "4        5    17312  0.003200\n"
     ]
    },
    {
     "data": {
      "image/png": "[encoded data removed]",
      "text/plain": [
       "<Figure size 432x288 with 1 Axes>"
      ]
     },
     "metadata": {
      "needs_background": "light"
     },
     "output_type": "display_data"
    },
    {
     "name": "stdout",
     "output_type": "stream",
     "text": [
      "\n",
      "\n",
      "Признак city:\n",
      "Число уникальных значений признака: 163\n",
      "Самые популярные категории:\n",
      "   city    count     ratio\n",
      "0     1  1612330  0.298047\n",
      "1     2   741120  0.137000\n",
      "2     3   313948  0.058035\n",
      "3     4   184971  0.034193\n",
      "4     5   163268  0.030181\n",
      "\n",
      "\n",
      "Признак mcc_category:\n",
      "Число уникальных значений признака: 28\n",
      "Самые популярные категории:\n",
      "   mcc_category    count     ratio\n",
      "0             1  1575799  0.291294\n",
      "1             2   820989  0.151764\n",
      "2             3   701179  0.129616\n",
      "3             4   676990  0.125145\n",
      "4             5   288742  0.053375\n"
     ]
    },
    {
     "data": {
      "image/png": "[encoded data removed]",
      "text/plain": [
       "<Figure size 432x288 with 1 Axes>"
      ]
     },
     "metadata": {
      "needs_background": "light"
     },
     "output_type": "display_data"
    },
    {
     "name": "stdout",
     "output_type": "stream",
     "text": [
      "\n",
      "\n",
      "Признак day_of_week:\n",
      "Число уникальных значений признака: 7\n",
      "Самые популярные категории:\n",
      "   day_of_week   count     ratio\n",
      "0            1  859578  0.158897\n",
      "1            2  804180  0.148657\n",
      "2            3  782548  0.144658\n",
      "3            4  769316  0.142212\n",
      "4            5  751375  0.138895\n"
     ]
    },
    {
     "data": {
      "image/png": "[encoded data removed]",
      "text/plain": [
       "<Figure size 432x288 with 1 Axes>"
      ]
     },
     "metadata": {
      "needs_background": "light"
     },
     "output_type": "display_data"
    },
    {
     "name": "stdout",
     "output_type": "stream",
     "text": [
      "\n",
      "\n",
      "Признак hour:\n",
      "Число уникальных значений признака: 24\n",
      "Самые популярные категории:\n",
      "   hour  count     ratio\n",
      "0     0  96340  0.017809\n",
      "1     1  34582  0.006393\n",
      "2     2  27119  0.005013\n",
      "3     3  28499  0.005268\n",
      "4     4  40477  0.007482\n"
     ]
    },
    {
     "data": {
      "image/png": "[encoded data removed]",
      "text/plain": [
       "<Figure size 432x288 with 1 Axes>"
      ]
     },
     "metadata": {
      "needs_background": "light"
     },
     "output_type": "display_data"
    },
    {
     "name": "stdout",
     "output_type": "stream",
     "text": [
      "\n",
      "\n",
      "Признак weekofyear:\n",
      "Число уникальных значений признака: 52\n",
      "Самые популярные категории:\n",
      "   weekofyear   count     ratio\n",
      "0           1   99727  0.018435\n",
      "1           2  115464  0.021344\n",
      "2           3  132538  0.024500\n",
      "3           4  120388  0.022254\n",
      "4           5  134389  0.024842\n",
      "\n",
      "\n"
     ]
    }
   ],
   "source": [
    "for cat_feature in categorical_features:\n",
    "    print(f\"Признак {cat_feature}:\")\n",
    "    \n",
    "    df = train_transactions[[\"app_id\", cat_feature]].groupby(cat_feature).agg(\"count\").reset_index()\n",
    "    df.columns = [cat_feature, \"count\"]\n",
    "    print(f\"Число уникальных значений признака: {len(df)}\")\n",
    "    \n",
    "    df[\"ratio\"] = df[\"count\"] / len(train_transactions)\n",
    "    print(\"Самые популярные категории:\")\n",
    "    print(df.head())\n",
    "\n",
    "    if len(df) < 50:\n",
    "        df[[cat_feature, \"count\"]].plot.bar(cat_feature)\n",
    "        plt.title(f\"Количество транзакций в зависимости от категории признака {cat_feature}\")\n",
    "        plt.show()\n",
    "        \n",
    "    print(\"\\n\")"
   ]
  },
  {
   "cell_type": "markdown",
   "metadata": {},
   "source": [
    "#### Некоторые замечания:\n",
    "1. Все категориальные признаки закодировали натуральными числами. Часто (там, где нет явного порядка, как в случае с hour) категория, закодированная 1 -- самая популярная, далее идут категории по спаду популярности.\n",
    "2. Из первого пункта следует, что, вероятно, для признака currency:\n",
    "\n",
    "    - категория 1 кодирует рублевые операции\n",
    "    - категории 2 и 3 - доллар и евро\n",
    "    - категории с 4 по 10 - другие популярные валюты\n",
    "    - категория 11 - остальные валюты\n",
    "3. Аналогично предыдущему, можно предположить, что для признака city:\n",
    "    - категория 1 кодирует Москву\n",
    "    - категория 2 - Питер\n",
    "    - и т.д.\n",
    "4. Есть подозрение, что day_of_week закодировано не последовательно, а тоже по популярности дней недели для транзакций. Если посмотреть внимательнее, то можно выявить следующий циклический порядок дней недели: [7, 6, 5, 4, 3, 1, 2, 7, ...], т.е. порядок 2 и 1 изменен.\n",
    "5. Очень интересное распределение признака hour."
   ]
  },
  {
   "cell_type": "code",
   "execution_count": null,
   "metadata": {},
   "outputs": [],
   "source": []
  }
 ],
 "metadata": {
  "kernelspec": {
   "display_name": "Python 3",
   "language": "python",
   "name": "python3"
  },
  "language_info": {
   "codemirror_mode": {
    "name": "ipython",
    "version": 3
   },
   "file_extension": ".py",
   "mimetype": "text/x-python",
   "name": "python",
   "nbconvert_exporter": "python",
   "pygments_lexer": "ipython3",
   "version": "3.8.6"
  }
 },
 "nbformat": 4,
 "nbformat_minor": 4
}
